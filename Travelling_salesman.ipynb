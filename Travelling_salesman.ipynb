{
 "cells": [
  {
   "cell_type": "code",
   "execution_count": 1,
   "metadata": {},
   "outputs": [
    {
     "name": "stderr",
     "output_type": "stream",
     "text": [
      "  0%|          | 0/3 [00:00<?, ?it/s]"
     ]
    },
    {
     "name": "stderr",
     "output_type": "stream",
     "text": [
      "\n",
      "100%|██████████| 4/4 [00:00<?, ?it/s]\n",
      "\n",
      "100%|██████████| 4/4 [00:00<?, ?it/s]\n",
      "100%|██████████| 4/4 [00:00<00:00, 499.84it/s]\n",
      "\n",
      "100%|██████████| 4/4 [00:00<?, ?it/s]\n",
      "\n",
      "100%|██████████| 4/4 [00:00<?, ?it/s]\n",
      "100%|██████████| 4/4 [00:00<00:00, 408.16it/s]\n",
      "\n",
      "100%|██████████| 4/4 [00:00<?, ?it/s]\n",
      "\n",
      "100%|██████████| 4/4 [00:00<?, ?it/s]\n",
      "100%|██████████| 4/4 [00:00<00:00, 1551.87it/s]\n",
      "100%|██████████| 3/3 [00:00<00:00, 79.31it/s]"
     ]
    },
    {
     "name": "stdout",
     "output_type": "stream",
     "text": [
      "Minimum cost for the most efficient tour = 35\n",
      "Path of the most efficient path = [0, 1, 3, 2]\n"
     ]
    },
    {
     "name": "stderr",
     "output_type": "stream",
     "text": [
      "\n"
     ]
    }
   ],
   "source": [
    "from tqdm import tqdm\n",
    "n = 4  # There are four nodes in the example graph (graph is 1-based)\n",
    "\n",
    "# dist[i][j] represents the shortest distance to go from i to j\n",
    "dist = [\n",
    "    [0, 10, 15, 20],\n",
    "    [5, 0, 9, 10],\n",
    "    [6, 13, 0, 12],\n",
    "    [8, 8, 9, 0]\n",
    "]\n",
    "\n",
    "# memoization for top-down recursion and to store the path\n",
    "memo = [[-1] * (1 << n) for _ in range(n)]\n",
    "path_memo = [[-1] * (1 << n) for _ in range(n)]\n",
    "\n",
    "def tsp(i, mask):\n",
    "    # base case: if only ith bit and 0th bit are set in our mask,\n",
    "    # it implies we have visited all other nodes already\n",
    "    if mask == ((1 << i) | 1):\n",
    "        return dist[0][i]\n",
    "\n",
    "    # memoization\n",
    "    if memo[i][mask] != -1:\n",
    "        return memo[i][mask]\n",
    "\n",
    "    res = float('inf')  # result of this sub-problem\n",
    "    best_j = -1\n",
    "\n",
    "    # we have to travel all nodes j in the mask and end the path at the ith node\n",
    "    for j in tqdm(range(n)):\n",
    "        if (mask & (1 << j)) != 0 and j != i and j != 0:\n",
    "            subproblem_res = tsp(j, mask & (~(1 << i))) + dist[j][i]\n",
    "            if subproblem_res < res:\n",
    "                res = subproblem_res\n",
    "                best_j = j\n",
    "\n",
    "    # storing the minimum value and the path\n",
    "    memo[i][mask] = res\n",
    "    path_memo[i][mask] = best_j\n",
    "    return res\n",
    "\n",
    "def find_path(mask, i):\n",
    "    path = []\n",
    "    while i != -1:\n",
    "        path.append(i)\n",
    "        next_i = path_memo[i][mask]\n",
    "        mask &= ~(1 << i)\n",
    "        i = next_i\n",
    "    path.append(0)  # finally returning to the starting point\n",
    "    path.reverse()\n",
    "    return path\n",
    "\n",
    "# Driver program to test above logic\n",
    "ans = float('inf')\n",
    "start_mask = (1 << n) - 1\n",
    "best_end_node = -1\n",
    "\n",
    "for i in tqdm(range(1, n)):\n",
    "    # try to go from node 0 visiting all nodes in between to i\n",
    "    # then return from i taking the shortest route to 0\n",
    "    result = tsp(i, start_mask) + dist[i][0]\n",
    "    if result < ans:\n",
    "        ans = result\n",
    "        best_end_node = i\n",
    "\n",
    "# Retrieve the path\n",
    "optimal_path = find_path(start_mask, best_end_node)\n",
    "\n",
    "print(\"Minimum cost for the most efficient tour =\", ans)\n",
    "print(\"Path of the most efficient path =\", optimal_path)\n"
   ]
  },
  {
   "cell_type": "code",
   "execution_count": null,
   "metadata": {},
   "outputs": [],
   "source": []
  }
 ],
 "metadata": {
  "kernelspec": {
   "display_name": "myenv",
   "language": "python",
   "name": "python3"
  },
  "language_info": {
   "codemirror_mode": {
    "name": "ipython",
    "version": 3
   },
   "file_extension": ".py",
   "mimetype": "text/x-python",
   "name": "python",
   "nbconvert_exporter": "python",
   "pygments_lexer": "ipython3",
   "version": "3.12.1"
  }
 },
 "nbformat": 4,
 "nbformat_minor": 2
}
